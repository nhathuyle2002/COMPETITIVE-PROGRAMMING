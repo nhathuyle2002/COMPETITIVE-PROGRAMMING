{
  "nbformat": 4,
  "nbformat_minor": 0,
  "metadata": {
    "colab": {
      "name": "tanbinh_warm_up.ipynb",
      "provenance": [],
      "collapsed_sections": [],
      "authorship_tag": "ABX9TyMZmbIbh3d48+ys0Q/eIxjz",
      "include_colab_link": true
    },
    "kernelspec": {
      "name": "python3",
      "display_name": "Python 3"
    },
    "language_info": {
      "name": "python"
    }
  },
  "cells": [
    {
      "cell_type": "markdown",
      "metadata": {
        "id": "view-in-github",
        "colab_type": "text"
      },
      "source": [
        "<a href=\"https://colab.research.google.com/github/uitnhathuy/UIT-ALGO-BOOTCAMP/blob/main/tanbinh_warm_up.ipynb\" target=\"_parent\"><img src=\"https://colab.research.google.com/assets/colab-badge.svg\" alt=\"Open In Colab\"/></a>"
      ]
    },
    {
      "cell_type": "markdown",
      "metadata": {
        "id": "FEhXmVzvk1iv"
      },
      "source": [
        "# 1. VW05p_Enrichement"
      ]
    },
    {
      "cell_type": "markdown",
      "metadata": {
        "id": "K2vyPgIilSwC"
      },
      "source": [
        "## Tóm tắt"
      ]
    },
    {
      "cell_type": "markdown",
      "metadata": {
        "id": "P4bye52flXl3"
      },
      "source": [
        "Tìm ma trận có kích thước $ 3 \\times 3 $ với tổng các phần tử nhỏ nhất từ ma trận $ n \\times m $ cho trước ($ 3 \\leq n, m; n \\times m \\leq 10^{6} $)\n"
      ]
    },
    {
      "cell_type": "markdown",
      "metadata": {
        "id": "Dbp6eCV9ly3n"
      },
      "source": [
        "## Ý tưởng"
      ]
    },
    {
      "cell_type": "markdown",
      "metadata": {
        "id": "doajidMwl30P"
      },
      "source": [
        "Sử dụng quy hoạch động:\n",
        "  - Quy hoạch động tổng tiền tố: $ s_{[i][j]} = a_{[i][j]} +s_{[i-1][j]} +s_{[i][j-1]}- s_{[i-1][j-1]} $\n",
        "  - Tổng ma trận $ 3 \\times 3 $: $ s_{[i][j]}- s_{[i-3][j]} - s_{[i][j-3]} +s_{[i-3][j-3]}$\n"
      ]
    },
    {
      "cell_type": "markdown",
      "metadata": {
        "id": "McE5pZTDOAib"
      },
      "source": [
        "Độ phức tạp: $ O(n \\times m)$"
      ]
    },
    {
      "cell_type": "markdown",
      "metadata": {
        "id": "c8Azg9Z4nlRJ"
      },
      "source": [
        "##Code"
      ]
    },
    {
      "cell_type": "code",
      "metadata": {
        "id": "hUOq4yU_nmPP"
      },
      "source": [
        "import math\n",
        "n, m = map(int, input().split())\n",
        "\n",
        "s = [[0 for j in range(m+1)]]\n",
        "ans = 9*1e5\n",
        "\n",
        "for i in range(1, n+1):\n",
        "\ts.append([0]);\n",
        "\ts[i][1:m+1] = map(int, input().split())\n",
        "\tfor j in range(1, m+1):\n",
        "\t\ts[i][j] += s[i-1][j] + s[i][j-1] - s[i-1][j-1]\n",
        "\t\tif i>=3 and j>=3:\n",
        "\t\t\tans=min(ans, s[i][j]-s[i-3][j]-s[i][j-3]+s[i-3][j-3])\n",
        "\n",
        "print(ans)"
      ],
      "execution_count": null,
      "outputs": []
    },
    {
      "cell_type": "markdown",
      "metadata": {
        "id": "gnCxb8MJwbVe"
      },
      "source": [
        "# 2. VW04p_Checkout"
      ]
    },
    {
      "cell_type": "markdown",
      "metadata": {
        "id": "gzu7j6QOwxzO"
      },
      "source": [
        "## Tóm tắt\n"
      ]
    },
    {
      "cell_type": "markdown",
      "metadata": {
        "id": "WxZeeiZ_xFfu"
      },
      "source": [
        "Cho \n",
        "  - $D:$ độ dài quãng đường\n",
        "  - $a_1:$ gia tốc tăng\n",
        "  - $a_2:$ gia tốc giảm\n",
        "  - $v_{max}:$ vận tốc tối đa được cho phép\n",
        "  - $t:$ thời gian tối thiểu duy trì vận tốc cao nhất\n",
        "\n",
        "$ \\Rightarrow $ Tìm thời gian $t_{min}$ nhỏ nhất để hoàn thành quãng đường."
      ]
    },
    {
      "cell_type": "markdown",
      "metadata": {
        "id": "yjfFLWfryVzn"
      },
      "source": [
        "## Ý tưởng"
      ]
    },
    {
      "cell_type": "markdown",
      "metadata": {
        "id": "zIdGQPxeyYHH"
      },
      "source": [
        "  - Từ công thức tính vận tốc và gia tốc, xây dựng phương trình bậc 2 để tính vận tốc cao nhất đạt được: $\\frac{a1+a2}{2 \\times a1 \\times a2} \\times v^2 + t \\times v - D = 0$\n",
        "\n",
        "  - Sau khi có vận tốc, tìm thời gian tối thiểu cần thiết:\n",
        "    - Nếu $v \\leq vmax$ thì $tmin = \\frac{v}{a1} + \\frac{v}{a2} + t$\n",
        "    - Nếu $v>vmax$ thì $tmin = \\frac{D}{vmax} + \\frac{vmax}{2 \\times a_{1}}+ \\frac{vmax}{2 \\times a2}$"
      ]
    },
    {
      "cell_type": "markdown",
      "metadata": {
        "id": "beODuL-UOKkq"
      },
      "source": [
        "Độ phức tạp: $O(1)$"
      ]
    },
    {
      "cell_type": "markdown",
      "metadata": {
        "id": "1VkyCTGA2ieM"
      },
      "source": [
        "## Code"
      ]
    },
    {
      "cell_type": "code",
      "metadata": {
        "id": "HmwWAC27066X"
      },
      "source": [
        "import math\n",
        "\n",
        "D, a1, a2, vmax, t = map(float, input().split())\n",
        "\n",
        "a = (a1+a2)/(2*a1*a2)\n",
        "delta = t*t + 4*D*a\n",
        "v = (-t + math.sqrt(delta))/(2*a)\n",
        "\n",
        "if v<=vmax:\n",
        "\ttmin = v/a1 + v/a2 + t\n",
        "else:\n",
        "\ttmin = D/vmax + vmax/(2*a1) + vmax/(2*a2)\n",
        "\n",
        "print(round(tmin, 12))\n"
      ],
      "execution_count": null,
      "outputs": []
    },
    {
      "cell_type": "markdown",
      "metadata": {
        "id": "PZvp9u2U2fje"
      },
      "source": [
        "# 3. VW07p_Vitamin"
      ]
    },
    {
      "cell_type": "markdown",
      "metadata": {
        "id": "tcip4b4E2ndN"
      },
      "source": [
        "## Tóm tắt"
      ]
    },
    {
      "cell_type": "markdown",
      "metadata": {
        "id": "rNdoZaI62qqt"
      },
      "source": [
        "Cho $n \\leq 100, X \\leq 10^6$ và dãy $a_1, a_2, ..., a_n$ $(a_i \\leq 10^3)$\n",
        "  - $S_i=a_1+a_2+...+a_i$ với $i \\leq n$\n",
        "  - $S_i=S_n+(i-n) \\times a_n$ với $i>n$\n",
        "  - $T_i=i$\n",
        "\n",
        "Tìm tổ hợp lặp sao cho ($\\sum_{}S_k = X$) và ($\\sum_{}T_k$) nhỏ nhất, trả về $-1$ nếu không tồn tại cách thỏa mãn"
      ]
    },
    {
      "cell_type": "markdown",
      "metadata": {
        "id": "y2AbClKA7W95"
      },
      "source": [
        "## Ý tưởng"
      ]
    },
    {
      "cell_type": "markdown",
      "metadata": {
        "id": "kVKoH4bfD3k-"
      },
      "source": [
        "Sử dụng duy hoạch động: Gọi $d_x$ là ($\\sum_{}T_k$) nhỏ nhất để đạt ($\\sum_{}S_k = x-1$)\n",
        "  - Khởi tạo $d_x= +\\infty, d_0=0$\n",
        "  - Với $i \\leq n-1$, $d_x = min(d_x, d_{x-a_i}+i+1)$ \n",
        "  - Với $i=n$, xét $(X-x-a_{n-1}) \\mod a_n =0\\ \\Rightarrow d_X=min(d_X, d_x+ \\frac{X-x-a_{n-1}}{a_n}+n)$ \n",
        "\n",
        "$\\Rightarrow$ Kết quả là $d_X-1$\n"
      ]
    },
    {
      "cell_type": "markdown",
      "metadata": {
        "id": "2lIWKIqSOPPi"
      },
      "source": [
        "Độ phức tạp: $O(n*X)$ "
      ]
    },
    {
      "cell_type": "markdown",
      "metadata": {
        "id": "h7-PURQmSJtk"
      },
      "source": [
        "## Code"
      ]
    },
    {
      "cell_type": "code",
      "metadata": {
        "id": "A8JAX0SyIaQ0"
      },
      "source": [
        "import math\n",
        "\n",
        "n, X = map(int, input().split())\n",
        "a = [0]\n",
        "a[1:n+1] = map(int, input().split())\n",
        "d = [int(1e9) for x in range(X+1)]\n",
        "d[0] = 0\n",
        "\n",
        "for i in range(1, n):\n",
        "\ta[i]=a[i-1]+a[i]\n",
        "\n",
        "for i in range(1, n+1):\n",
        "\tfor x in range(a[i], X+1):\n",
        "\t\td[x] = min(d[x], d[x-a[i]]+i+1)\n",
        "\n",
        "for x in range(0, X-a[n-1]+1):\n",
        "\tif ((X-x-a[n-1]) % a[n] == 0):\n",
        "\t\td[X]=min(d[X], d[x]+(X-x-a[n-1])//a[n]+n)\n",
        "\n",
        "if d[X] == int(1e9): \n",
        "\tprint(-1) \n",
        "else:\n",
        "\tprint(d[X]-1)\n",
        "\n",
        "\n"
      ],
      "execution_count": null,
      "outputs": []
    }
  ]
}