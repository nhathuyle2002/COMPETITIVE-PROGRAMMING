{
  "nbformat": 4,
  "nbformat_minor": 0,
  "metadata": {
    "colab": {
      "name": "kickoff_contest.ipynb",
      "provenance": [],
      "collapsed_sections": [],
      "toc_visible": true,
      "authorship_tag": "ABX9TyMGTtyFwH3QuLJYoQeZm59H",
      "include_colab_link": true
    },
    "kernelspec": {
      "name": "python3",
      "display_name": "Python 3"
    },
    "language_info": {
      "name": "python"
    }
  },
  "cells": [
    {
      "cell_type": "markdown",
      "metadata": {
        "id": "view-in-github",
        "colab_type": "text"
      },
      "source": [
        "<a href=\"https://colab.research.google.com/github/uitnhathuy/UIT-ALGO-BOOTCAMP/blob/main/kickoff_contest.ipynb\" target=\"_parent\"><img src=\"https://colab.research.google.com/assets/colab-badge.svg\" alt=\"Open In Colab\"/></a>"
      ]
    },
    {
      "cell_type": "markdown",
      "metadata": {
        "id": "WUBwsOV1cOA7"
      },
      "source": [
        "# **Problem 1: Hidden Word**\n",
        "https://khmt.uit.edu.vn/wecode/algobootcamp/practice/show/88"
      ]
    },
    {
      "cell_type": "markdown",
      "metadata": {
        "id": "qgMPUENYciPu"
      },
      "source": [
        "## **Tóm tắt bài toán**\n"
      ]
    },
    {
      "cell_type": "markdown",
      "metadata": {
        "id": "gtgHdRzrcx7j"
      },
      "source": [
        "Cho ma trận $N*M$ ký tự $(1 \\le N*M \\le 10^5)$ và $Q$ xâu truy vấn có độ dài $[2..10]$ $(Q \\le 10^4)$. Kiểm tra các xâu truy vấn có tồn tại trong ma trận theo cột hay hàng không?"
      ]
    },
    {
      "cell_type": "markdown",
      "metadata": {
        "id": "VY7BrE1feAA5"
      },
      "source": [
        "## **Ý tưởng**"
      ]
    },
    {
      "cell_type": "markdown",
      "metadata": {
        "id": "MzRzeIiLeDib"
      },
      "source": [
        "Duyệt qua tất cả các xâu có độ dài $[2..10]$ theo cột và hàng trong ma trận, đưa $hash$ của chúng vào $list B$ rồi **sort** lại. Với mỗi xâu truy vấn, sử dụng **tìm kiếm nhị phân** tìm $hash$ trùng khớp với nó trong $list B$.\n",
        "\n",
        "Ở đây chúng ta sẽ sử dụng hệ cơ số $27$ cho việc $hash$ $([a..z] \\to [1..26])$, do $27^{10} < 10^{15}$ nên sẽ không có sai số khi sử dụng $hash$.\n",
        "\n",
        "**Tricks:** Khi tính $hash$ từng xâu trong ma trận, ta sử dụng $hash$ của xâu vừa tính để tính tiếp $hash$ của xâu mở rộng tiếp theo.\n",
        "\n",
        "**Độ phức tạp**: $O(N*M*Q + Q*log(N*M*Q))$\n",
        "\n"
      ]
    },
    {
      "cell_type": "markdown",
      "metadata": {
        "id": "Zz5BWeOogOC-"
      },
      "source": [
        "##**Code**"
      ]
    },
    {
      "cell_type": "code",
      "metadata": {
        "id": "rHn0tl4BgUpj"
      },
      "source": [
        "import math\n",
        "\n",
        "base = 27\n",
        "n , m, Q = map(int, input().split())\n",
        "\n",
        "a = [input() for i in range(n)]\n",
        "\n",
        "b = []\n",
        "ans = []\n",
        "\n",
        "for i in range(n):\n",
        "\tfor j in range(m):\n",
        "\t\tH = 0\n",
        "\t\tfor k in range(j, min(m, j+10)):\n",
        "\t\t\tH = H*base + ord(a[i][k]) - ord('a') + 1\n",
        "\t\t\tb.append(H)\n",
        "\n",
        "for j in range(m):\n",
        "\tfor i in range(n):\n",
        "\t\tH=0\n",
        "\t\tfor k in range(i, min(n, i+10)):\n",
        "\t\t\tH = H*base + ord(a[k][j]) - ord('a') + 1\n",
        "\t\t\tb.append(H)\n",
        "\n",
        "b.sort()\n",
        "\n",
        "def binary_search(left, right, x):\n",
        "\twhile left < right:\n",
        "\t\tmid = (left+right) // 2\n",
        "\t\tif b[mid] == x:\n",
        "\t\t\treturn True\n",
        "\t\telif b[mid] < x:\n",
        "\t\t\tleft = mid+1\n",
        "\t\telse:\n",
        "\t\t\tright = mid\n",
        "\treturn False\n",
        "\n",
        "while Q > 0:\n",
        "\tQ -= 1\n",
        "\tt = input()\n",
        "\tH = 0\n",
        "\tfor x in t:\n",
        "\t\tH = H*base + ord(x) - ord('a') + 1\n",
        "\tif binary_search(0, len(b), H):\n",
        "\t\tans.append(1)\n",
        "\telse:\n",
        "\t\tans.append(0)\n",
        "\n",
        "for x in ans: print(x, end='')"
      ],
      "execution_count": null,
      "outputs": []
    },
    {
      "cell_type": "markdown",
      "metadata": {
        "id": "yLNxIkPZhVmv"
      },
      "source": [
        "#**Problem 2: True Expression**\n",
        "https://khmt.uit.edu.vn/wecode/algobootcamp/practice/show/89"
      ]
    },
    {
      "cell_type": "markdown",
      "metadata": {
        "id": "lEFIasWThtDS"
      },
      "source": [
        "## **Tóm tắt bài toán**\n"
      ]
    },
    {
      "cell_type": "markdown",
      "metadata": {
        "id": "d9qLQsuXhuM-"
      },
      "source": [
        "Cho $N$ và $S$. Tìm cách đặt các toán tử **+** và **-** trước mỗi số nguyên trong đoạn $[1..N]$ sao cho đạt đúng tổng $S$. "
      ]
    },
    {
      "cell_type": "markdown",
      "metadata": {
        "id": "nc_O1i4shn6O"
      },
      "source": [
        "## **Ý tưởng**"
      ]
    },
    {
      "cell_type": "markdown",
      "metadata": {
        "id": "9c7tIfIXjIjl"
      },
      "source": [
        "Giả sử ban đầu các phần tử đều mang dấu **+** $\\Rightarrow Sum = \\sum_{i=1}^{N}i = \\frac{N \\times (N+1)}{2}$\n",
        "\n",
        "\n",
        "Quy hoạch động $D[i, x] = True$ nếu có thể đạt tổng $x$ khi xét đến phần tử $i$\n",
        "\n",
        "Khởi tạo mảng $D[i, x] = False, D[0, Sum] = True$.\n",
        "\n",
        "Tại phần tử $i$, nếu ta giữ nguyên dấu **+** thì tổng sẽ không thay đổi, ngược lại sẽ giảm $1$ lượng bằng $i \\times 2$ nên:\n",
        "\n",
        "$D[i, x] = True$ nếu $D[i-1][x] = True$ hoặc $D[i-1, x+i \\times 2] = True$\n",
        "\n",
        "**Độ phức tạp**: $O(N*S)$"
      ]
    },
    {
      "cell_type": "markdown",
      "metadata": {
        "id": "HGLy9LQqmnnU"
      },
      "source": [
        "##**Code**"
      ]
    },
    {
      "cell_type": "code",
      "metadata": {
        "id": "RxGxPbDmmoR-"
      },
      "source": [
        "import math\n",
        "\n",
        "n, S = map(int, input().split())\n",
        "Sum = n*(n+1)//2\n",
        "\n",
        "if S > Sum:\n",
        "\tprint(\"NO_SOLUTION\")\n",
        "\tquit()\n",
        "\n",
        "d = [[False for x in range(Sum+1)] for i in range(n+1)]\n",
        "\n",
        "d[0][Sum] = True\n",
        "\n",
        "for i in range(1, n+1):\n",
        "\tfor x in range(Sum+1):\n",
        "\t\tif d[i-1][x] or (x+i*2 <= Sum and d[i-1][x+i*2]):\n",
        "\t\t\td[i][x] = True\n",
        "\n",
        "if not d[n][S]:\n",
        "\tprint(\"NO_SOLUTION\")\n",
        "else:\n",
        "\tans = \"\"\n",
        "\tx = S\n",
        "\ti = n\n",
        "\twhile i > 0:\n",
        "\t\tif d[i-1][x]: \n",
        "\t\t\tans = '+' + ans\n",
        "\t\telse:\n",
        "\t\t\tx = x + i*2\n",
        "\t\t\tans = '-' + ans\n",
        "\t\ti -= 1\n",
        "\tprint(ans)"
      ],
      "execution_count": null,
      "outputs": []
    },
    {
      "cell_type": "markdown",
      "metadata": {
        "id": "7bwqxUDom5kL"
      },
      "source": [
        "#**Problem 3: Top K Hits**\n",
        "https://khmt.uit.edu.vn/wecode/algobootcamp/practice/show/90"
      ]
    },
    {
      "cell_type": "markdown",
      "metadata": {
        "id": "qSp3IwRPnDtd"
      },
      "source": [
        "## **Tóm tắt bài toán**\n"
      ]
    },
    {
      "cell_type": "markdown",
      "metadata": {
        "id": "b1hUA_IfnJvt"
      },
      "source": [
        "Cho mảng kích thước $N$, các phần tử ban đầu có giá trị $0(N \\le 50000)$. Có $Q$ truy vấn $(Q \\le 50000)$ gồm $2$ loại:\n",
        "  - Loại $1$: Tăng các phần tử trong đoạn $[L..R]$ lên $delta$ đơn vị $(1 \\le L, R \\le N, -10^9 \\le delta \\le 10^9)$\n",
        "  - Loại $2$: Truy xuất $K$ phần tử lớn nhất trong mảng$(K \\le 5)$."
      ]
    },
    {
      "cell_type": "markdown",
      "metadata": {
        "id": "d2ordQTTnHqJ"
      },
      "source": [
        "## **Ý tưởng**"
      ]
    },
    {
      "cell_type": "markdown",
      "metadata": {
        "id": "bnfkMrC-nOGL"
      },
      "source": [
        "Sử dụng cấu trúc **Segment Tree**, mỗi $node$ lưu dữ liệu là $5$ phần tử lớn nhất trong đoạn quản lý.\n",
        "\n",
        "Để có thể thực hiện truy vấn $1$ nhanh chóng, ta kết hợp kỹ thuật **Lazy Propagation** trên **Segment Tree**.\n",
        "\n",
        "**Độ phức tạp**: $O(NlogN + QlogN*10)$ "
      ]
    },
    {
      "cell_type": "markdown",
      "metadata": {
        "id": "EhlZopT1nJKY"
      },
      "source": [
        "##**Code**"
      ]
    },
    {
      "cell_type": "code",
      "metadata": {
        "id": "0PmpDfGwjg1D"
      },
      "source": [
        "inp = input().strip().split()\n",
        "n, Q = int(inp[0]), int(inp[1])\n",
        "\n",
        "left = [0 for x in range(50000*4+10)]\n",
        "right = [0 for x in range(50000*4+10)]\n",
        "tree = [{()} for x in range(50000*4+10)]\n",
        "lazy = [0 for x in range(50000*4+10)]\n",
        "\n",
        "def build(id, l, r):\n",
        "\tlazy[id] = 0\n",
        "\tleft[id], right[id] = l, r\n",
        "\tif l == r:\n",
        "\t\ttree[id].clear()\n",
        "\t\ttree[id].add((0, l))\n",
        "\t\treturn\n",
        "\tmid = (l+r) // 2\n",
        "\tbuild(id<<1, l, mid)\n",
        "\tbuild(id<<1 | 1, mid+1, r)\n",
        "\ttree[id] = tree[id<<1] | tree[id<<1 | 1]\n",
        "\twhile len(tree[id]) > 5:\n",
        "\t\ttree[id].remove(min(tree[id]))\n",
        "\n",
        "def addvalue(id, delta):\n",
        "\ttemp = {()}\n",
        "\ttemp.clear()\n",
        "\twhile len(tree[id]) > 0:\n",
        "\t\tte = tree[id].pop()\n",
        "\t\ttemp.add((te[0] + delta, te[1]))\n",
        "\ttree[id] = temp\n",
        "\n",
        "def update_node(id):\n",
        "\tif lazy[id] == 0: return\n",
        "\tif left[id] != right[id]:\n",
        "\t\tlazy[id<<1] += lazy[id]\n",
        "\t\tlazy[id<<1 | 1] += lazy[id]\n",
        "\taddvalue(id, lazy[id])\n",
        "\tlazy[id] = 0\n",
        "\n",
        "\n",
        "def update(id, l, r, delta):\n",
        "\tupdate_node(id)\n",
        "\tif l>right[id] or r<left[id]:\n",
        "\t\treturn\n",
        "\tif l<=left[id] and right[id]<=r:\n",
        "\t\tlazy[id] += delta\n",
        "\t\tupdate_node(id)\n",
        "\t\treturn\n",
        "\n",
        "\tupdate(id<<1, l, r, delta)\n",
        "\tupdate(id<<1 | 1, l, r, delta)\n",
        "\ttree[id] = tree[id<<1] | tree[id<<1 | 1]\n",
        "\twhile len(tree[id]) > 5:\n",
        "\t\ttree[id].remove(min(tree[id]))\n",
        "\n",
        "#########\n",
        "\n",
        "build(1, 1, n)\n",
        "for test in range(Q):\n",
        "\tinp = input().strip().split()\n",
        "\ttyp = int(inp[0])\n",
        "\tif typ == 1:\n",
        "\t\tl = int(inp[1])\n",
        "\t\tr = int(inp[2])\n",
        "\t\tdelta = int(inp[3])\n",
        "\t\tupdate(1, l, r, delta)\n",
        "\telse:\n",
        "\t\tk = int(inp[1])\n",
        "\t\tans = sorted(tree[1], reverse=True)\n",
        "\t\tfor i in range(min(k, n)):\n",
        "\t\t\tprint(ans[i][1], end = ' ')\n",
        "\t\tprint()"
      ],
      "execution_count": null,
      "outputs": []
    },
    {
      "cell_type": "markdown",
      "metadata": {
        "id": "tv2JBM6dnTKR"
      },
      "source": [
        "#**Problem 4: Splitting Carrots**\n",
        "https://khmt.uit.edu.vn/wecode/algobootcamp/practice/show/91"
      ]
    },
    {
      "cell_type": "markdown",
      "metadata": {
        "id": "nspunLFUniWo"
      },
      "source": [
        "## **Tóm tắt bài toán**\n"
      ]
    },
    {
      "cell_type": "markdown",
      "metadata": {
        "id": "G7mNjDRBsJ5m"
      },
      "source": [
        "Cho $N(N \\le 100)$ và mảng $A$ kích thước $N (A_i \\le 2000)$. Tìm cách loại bỏ ít phần tử nhất của $A$, sao cho với các phần tử còn lại không thể chia làm $2$ phần bằng nhau."
      ]
    },
    {
      "cell_type": "markdown",
      "metadata": {
        "id": "OH1fP_PGnkS2"
      },
      "source": [
        "## **Ý tưởng**"
      ]
    },
    {
      "cell_type": "markdown",
      "metadata": {
        "id": "ThwjfNy2s83g"
      },
      "source": [
        "**Nhận xét:** Bài toán không có trường hợp vô nghiệm, chỉ có 2 trường hợp có thể xảy ra:\n",
        "  - Không lấy đi phần tử nào thì $A$ vẫn không thể chia làm $2$ phần bằng nhau.\n",
        "  - Lấy đi duy nhất $1$ phần tử để $A$ không thể chia thành 2 phần bằng nhau.\n",
        "\n",
        "$\\Rightarrow$ **Thuật toán:** Giả sử loại bỏ phần tử $A_i$(không loại bỏ phần tử nào thì xem như $i=0, A_0 = 0$), tổng các phần tử còn lại là $Sum'$:\n",
        "  - $Sum' \\mod 2 = 1$: không thể chia làm 2 phần bằng nhau khi loại bỏ $A_i$.\n",
        "  - $Sum' \\mod 2 = 0$: Sử dụng **quy hoạch động**, kiểm tra xem các phần tử còn lại có thể tạo tổ hợp có tổng bằng $\\frac{Sum'}{2}$ hay không. Nếu không $\\rightarrow$ không thể chia làm 2 phần bằng nhau khi loại bỏ $A_i$.\n",
        "\n",
        "**Tricks:** Chỉ cần sử dụng mảng $1$ chiều khi quy hoạch động.\n",
        "\n",
        "**Độ phức tạp**: $O(N*N*2000)$\n"
      ]
    },
    {
      "cell_type": "markdown",
      "metadata": {
        "id": "ZOpG8LRbnmPY"
      },
      "source": [
        "##**Code**"
      ]
    },
    {
      "cell_type": "code",
      "metadata": {
        "id": "ZlPMYAvsv5RO"
      },
      "source": [
        "n = int(input())\n",
        "a=[int(x) for x in input().split()]\n",
        "\n",
        "\n",
        "def DP():\n",
        "\twhile (True):\n",
        "\t\tstop = False\n",
        "\t\tfor i in range(n):\n",
        "\t\t\tif a[i] % 2:\n",
        "\t\t\t\tstop = True\n",
        "\t\t\t\tbreak\n",
        "\t\tif stop: break\n",
        "\t\tfor  i in range(n):\n",
        "\t\t\ta[i]//=2\n",
        "\n",
        "\tS = 0\n",
        "\tfor i in range(n): \n",
        "\t\tS += a[i]\n",
        "\n",
        "\tif S % 2: \n",
        "\t\treturn []\n",
        "\tS //= 2\n",
        "\n",
        "\td = [False for x in range(S+1)]\n",
        "\td[S] = True\n",
        "\tfor i in range(n):\n",
        "\t\tfor x in range(a[i], S+1):\n",
        "\t\t\tif d[x]: d[x - a[i]] = True\n",
        "\n",
        "\tif d[0] == False:\n",
        "\t\treturn []\n",
        "\telse: \n",
        "\t\tfor i in range(n):\n",
        "\t\t\tif a[i] % 2:\n",
        "\t\t\t\treturn [i+1]\n",
        "\n",
        "ans = list(DP())\n",
        "print(len(ans))\n",
        "for x in ans: print(x, end=' ')"
      ],
      "execution_count": null,
      "outputs": []
    },
    {
      "cell_type": "markdown",
      "metadata": {
        "id": "m6oAQr2JnpUL"
      },
      "source": [
        "#**Problem 5: Minesweeper**\n",
        "https://khmt.uit.edu.vn/wecode/algobootcamp/practice/show/92"
      ]
    },
    {
      "cell_type": "markdown",
      "metadata": {
        "id": "oBIJtqlNnqPt"
      },
      "source": [
        "## **Tóm tắt bài toán**\n"
      ]
    },
    {
      "cell_type": "markdown",
      "metadata": {
        "id": "U08P2w3woA0O"
      },
      "source": [
        "Cho ma trận $A$ kích thước $N*M (N, M \\le 40, A_{i, j} = [0..4])$, $A_{i, j}$ là số ô có bom cạnh ô $[i, j]$. Xây dụng ma trận $B$ kích thước $N*M$, $B_{i, j} = 1$ nếu ô $[i, j]$ có bom, $B_{i, j} = 0$ nếu ô $[i, j]$ không có bom, sao cho thỏa mãn ma trận $A$."
      ]
    },
    {
      "cell_type": "markdown",
      "metadata": {
        "id": "_szyNuYBnr3U"
      },
      "source": [
        "## **Ý tưởng**"
      ]
    },
    {
      "cell_type": "markdown",
      "metadata": {
        "id": "bqp3IdCEpc_H"
      },
      "source": [
        "**Nhận xét:** Giả sử ta đã khi xét đến ô $B_{i, j}$, ta đã điền được các ô $B_{x, y}, x+y < i+j$. Cố định $B_{i, j}$, ta có thể điền tất cả ô $B_{i', j'}$ còn lại trên đường chéo phụ có $i'+j'= i+j$.\n",
        "\n",
        "$\\Rightarrow$ Sử dụng **đệ quy nhánh cận**, ta duyệt lần lượt từng đường chéo phụ trên $B$, cố định $1$ ô trên đường chéo phụ và điền các ô còn lại, sau đó kiểm tra xem cấu hình hiện tại có thỏa mãn $A$ không. Nếu thỏa mãn thì duyệt đường chéo phụ tiếp theo.\n",
        "\n",
        "**Tips:** Cẩn thận việc truy vấn ngoài mảng."
      ]
    },
    {
      "cell_type": "markdown",
      "metadata": {
        "id": "SA0f2f-Nns8L"
      },
      "source": [
        "##**Code**"
      ]
    },
    {
      "cell_type": "code",
      "metadata": {
        "id": "C5dXdhcusEoN"
      },
      "source": [
        "import math\n",
        "\n",
        "n, m = map(int, input().split())\n",
        "deg = [[int(x) for x in input().split()] for i in range(n)]\n",
        "b = [[0 for j in range(m)] for i in range(n)]\n",
        "########\n",
        "\n",
        "def rest_deg(i, j):\n",
        "\tans = 0\n",
        "\tif (i > 0) and (b[i-1][j] == 1): ans+=1\n",
        "\tif (i < n-1) and (b[i+1][j] == 1): ans+=1\n",
        "\tif (j > 0) and (b[i][j-1] == 1): ans+=1\n",
        "\tif (j < m-1) and (b[i][j+1] == 1): ans+=1\n",
        "\treturn deg[i][j] - ans\n",
        "\n",
        "def get_result():\n",
        "\tif rest_deg(n-1, m-1) !=0:\n",
        "\t\treturn\n",
        "\tfor i in range(n):\n",
        "\t\tfor j in range(m):\n",
        "\t\t\tprint(b[i][j], end=' ')\n",
        "\t\tprint()\n",
        "\tquit()\n",
        "\n",
        "def calc(i, j):\n",
        "\tfor x in range(2):\n",
        "\t\tb[i][j] = x\n",
        "\t\tstop = False\n",
        "\n",
        "\t\tif i > 0 and rest_deg(i-1, j) != 0:\n",
        "\t\t\tcontinue\n",
        "\n",
        "\t\tfor k in range(1, min(n-i, j+1)):\n",
        "\t\t\ttemp = rest_deg(i+k-1, j-k)\n",
        "\t\t\tif temp!=0 and temp!=1:\n",
        "\t\t\t\tstop = True\n",
        "\t\t\t\tbreak\n",
        "\t\t\tb[i+k][j-k] = temp\n",
        "\n",
        "\t\tif n-i < j+1 and rest_deg(n-1, j-n+i) != 0:\n",
        "\t\t\tstop = True\n",
        "\n",
        "\t\tif not stop:\n",
        "\t\t\tif i == n-1 and  j == m-1:\n",
        "\t\t\t\tget_result()\n",
        "\t\t\telif i+j+1 < m:\n",
        "\t\t\t\tcalc(i, j+1)\n",
        "\t\t\telse:\n",
        "\t\t\t\tcalc(i+1, j)\n",
        "\n",
        "\t\tfor k in range(1, min(n-i, j+1)):\n",
        "\t\t\tb[i+k][j-k] = 0\n",
        "\n",
        "########\n",
        "calc(0, 0)"
      ],
      "execution_count": null,
      "outputs": []
    }
  ]
}